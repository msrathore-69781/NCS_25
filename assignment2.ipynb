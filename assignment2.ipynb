{
 "cells": [
  {
   "cell_type": "code",
   "execution_count": null,
   "id": "05b64378",
   "metadata": {},
   "outputs": [],
   "source": [
    "import pandas as pd\n",
    "import networkx as nx\n",
    "import matplotlib.pyplot as plt"
   ]
  },
  {
   "cell_type": "code",
   "execution_count": null,
   "id": "1925f0f9",
   "metadata": {},
   "outputs": [],
   "source": [
    "# Load the dataset\n",
    "file_path = \"Data for network creation - Sheet1 (1).csv\"\n",
    "df = pd.read_csv(file_path)"
   ]
  },
  {
   "cell_type": "code",
   "execution_count": null,
   "id": "fdcd2ddd",
   "metadata": {},
   "outputs": [],
   "source": [
    "# Create directed graph\n",
    "G = nx.DiGraph()"
   ]
  },
  {
   "cell_type": "code",
   "execution_count": null,
   "id": "ee9eac07",
   "metadata": {},
   "outputs": [],
   "source": [
    "# Add edges with export volume as weight\n",
    "for _, row in df.iterrows():\n",
    "    source = row['Reporter Name']\n",
    "    target = row['Partner Name']\n",
    "    weight = row['Export (US$ Thousand)']\n",
    "    if weight > 0:\n",
    "        G.add_edge(source, target, weight=weight)"
   ]
  },
  {
   "cell_type": "code",
   "execution_count": null,
   "id": "66a9214c",
   "metadata": {},
   "outputs": [],
   "source": [
    "# Node sizes based on degree\n",
    "node_sizes = [100 + 10 * (G.degree(n)) for n in G.nodes()]\n",
    "larger_node_sizes = [s * 1.5 for s in node_sizes]  # scale up for visibility"
   ]
  },
  {
   "cell_type": "code",
   "execution_count": null,
   "id": "a2fc5353",
   "metadata": {},
   "outputs": [],
   "source": [
    "# Edge widths based on trade volume\n",
    "edge_weights = [G[u][v]['weight'] for u, v in G.edges()]\n",
    "max_weight = max(edge_weights)\n",
    "edge_widths_scaled = [0.5 + (w / max_weight * 8) for w in edge_weights]"
   ]
  },
  {
   "cell_type": "code",
   "execution_count": null,
   "id": "ac5febc1",
   "metadata": {},
   "outputs": [],
   "source": [
    "# Layout for better spacing\n",
    "pos = nx.spring_layout(G, seed=42, k=0.8)"
   ]
  },
  {
   "cell_type": "code",
   "execution_count": null,
   "id": "43e7350c",
   "metadata": {},
   "outputs": [],
   "source": [
    "# Plot the graph\n",
    "plt.figure(figsize=(18, 14))\n",
    "nx.draw_networkx_nodes(G, pos, node_size=larger_node_sizes, node_color='skyblue', edgecolors='black')\n",
    "nx.draw_networkx_edges(G, pos, width=edge_widths_scaled, alpha=0.7, edge_color='teal')\n",
    "nx.draw_networkx_labels(G, pos, font_size=10)"
   ]
  },
  {
   "cell_type": "code",
   "execution_count": null,
   "id": "1bc2dc76",
   "metadata": {},
   "outputs": [],
   "source": [
    "plt.title(\"Enhanced Visibility: Trade Network with Edge Widths by Export Volume\", fontsize=18)\n",
    "plt.axis('off')\n",
    "plt.tight_layout()\n",
    "plt.show()"
   ]
  }
 ],
 "metadata": {
  "jupytext": {
   "cell_metadata_filter": "-all",
   "main_language": "python",
   "notebook_metadata_filter": "-all"
  }
 },
 "nbformat": 4,
 "nbformat_minor": 5
}
